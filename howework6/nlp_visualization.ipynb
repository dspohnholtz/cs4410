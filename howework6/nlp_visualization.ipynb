{
 "cells": [
  {
   "cell_type": "markdown",
   "source": [
    "Daniel Spohnholtz\n",
    "\n",
    "Troy University, CS4410\n",
    "\n",
    "Homework 6\n",
    "\n",
    "# **NLP Visualization**"
   ],
   "metadata": {}
  },
  {
   "cell_type": "markdown",
   "source": [
    "## **Read Text File**"
   ],
   "metadata": {}
  },
  {
   "cell_type": "code",
   "execution_count": 30,
   "source": [
    "import pandas as pd\n",
    "import matplotlib.pyplot as plt\n",
    "import imageio\n",
    "import re\n",
    "from pathlib import Path\n",
    "from textblob import TextBlob\n",
    "from nltk.corpus import stopwords\n",
    "from operator import itemgetter\n",
    "from wordcloud import WordCloud\n",
    "\n",
    "hamlet = Path('hamlet.txt').read_text()\n",
    "hamletBlob = TextBlob(hamlet)"
   ],
   "outputs": [],
   "metadata": {}
  },
  {
   "cell_type": "markdown",
   "source": [
    "## **Eliminating Stop Words**"
   ],
   "metadata": {}
  },
  {
   "cell_type": "code",
   "execution_count": 33,
   "source": [
    "stop_words = stopwords.words('english')\n",
    "items = hamletBlob.word_counts.items()\n",
    "items = [item for item in items if item[0] not in stop_words]"
   ],
   "outputs": [],
   "metadata": {}
  },
  {
   "cell_type": "markdown",
   "source": [
    "## **Sorting the Words**"
   ],
   "metadata": {}
  },
  {
   "cell_type": "code",
   "execution_count": 10,
   "source": [
    "sorted_items = sorted(items, key=itemgetter(1), reverse=True)\n",
    "orderedList = sorted_items[1:21]"
   ],
   "outputs": [],
   "metadata": {}
  },
  {
   "cell_type": "markdown",
   "source": [
    "## **Visualizing Words as a Bar Chart**"
   ],
   "metadata": {}
  },
  {
   "cell_type": "code",
   "execution_count": 31,
   "source": [
    "df = pd.DataFrame(orderedList, columns=['word', 'count'])\n",
    "axes = df.plot.bar(x='word', y='count', legend=False)\n",
    "plt.gcf().tight_layout()"
   ],
   "outputs": [
    {
     "output_type": "display_data",
     "data": {
      "image/png": "[encoded data removed]",
      "text/plain": [
       "<Figure size 432x288 with 1 Axes>"
      ]
     },
     "metadata": {
      "needs_background": "light"
     }
    }
   ],
   "metadata": {}
  },
  {
   "cell_type": "markdown",
   "source": [
    "## **Visualizing the Text as a Word Cloud**"
   ],
   "metadata": {}
  },
  {
   "cell_type": "code",
   "execution_count": 62,
   "source": [
    "\n",
    "mask_image = imageio.imread('mask_oval.png')\n",
    "cloud = WordCloud(colormap='prism', mask=mask_image, background_color='white')\n",
    "cloud = WordCloud(max_words=20).generate(hamlet)\n",
    "cloud = cloud.to_file('./hamletOval.png')"
   ],
   "outputs": [],
   "metadata": {}
  }
 ],
 "metadata": {
  "orig_nbformat": 4,
  "language_info": {
   "name": "python",
   "version": "3.8.8",
   "mimetype": "text/x-python",
   "codemirror_mode": {
    "name": "ipython",
    "version": 3
   },
   "pygments_lexer": "ipython3",
   "nbconvert_exporter": "python",
   "file_extension": ".py"
  },
  "kernelspec": {
   "name": "python3",
   "display_name": "Python 3.8.8 64-bit ('base': conda)"
  },
  "interpreter": {
   "hash": "d24708ae553ca121f681543dc201d20375f2faaf3902843addf4e43d8fa3151b"
  }
 },
 "nbformat": 4,
 "nbformat_minor": 2
}