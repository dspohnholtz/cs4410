{
  "nbformat": 4,
  "nbformat_minor": 0,
  "metadata": {
    "colab": {
      "name": "spohnholtz_homework3.ipynb",
      "provenance": [],
      "authorship_tag": "ABX9TyOG7RF6ZR0w+een9h1oGtYp",
      "include_colab_link": true
    },
    "kernelspec": {
      "name": "python3",
      "display_name": "Python 3"
    },
    "language_info": {
      "name": "python"
    }
  },
  "cells": [
    {
      "cell_type": "markdown",
      "metadata": {
        "id": "view-in-github",
        "colab_type": "text"
      },
      "source": [
        "<a href=\"https://colab.research.google.com/github/dspohnholtz/cs4410/blob/main/spohnholtz_homework3.ipynb\" target=\"_parent\"><img src=\"https://colab.research.google.com/assets/colab-badge.svg\" alt=\"Open In Colab\"/></a>"
      ]
    },
    {
      "cell_type": "markdown",
      "metadata": {
        "id": "ZmJofAULX-ol"
      },
      "source": [
        "Troy University, CS4410\n",
        "\n",
        "Created By: Dan Spohnholtz\n",
        "\n",
        "Homework 3\n",
        "\n",
        "# **Loading the Dataset**\n",
        "\n"
      ]
    },
    {
      "cell_type": "code",
      "metadata": {
        "id": "tb5nSN_QYa9C"
      },
      "source": [
        "from sklearn.model_selection import KFold, cross_val_score, GridSearchCV\n",
        "from sklearn.neighbors import KNeighborsClassifier\n",
        "from sklearn.datasets import load_iris\n",
        "import pandas as pd\n",
        "import numpy as np\n",
        "iris = load_iris()"
      ],
      "execution_count": 84,
      "outputs": []
    },
    {
      "cell_type": "markdown",
      "metadata": {
        "id": "48NZy4tJaW2E"
      },
      "source": [
        "# **Determining the Optimal K-Value**"
      ]
    },
    {
      "cell_type": "code",
      "metadata": {
        "colab": {
          "base_uri": "https://localhost:8080/"
        },
        "id": "BBkOoqqdaYJs",
        "outputId": "612932d7-858e-4153-855f-fc5393a78d71"
      },
      "source": [
        "X = iris.data\n",
        "y = iris.target\n",
        "dataStore = {}\n",
        "\n",
        "for k in range(1,32,2):\n",
        "  knn = KNeighborsClassifier(n_neighbors=k)\n",
        "  scores = cross_val_score(knn, X, y, cv=10)\n",
        "  print(f'k={k:<2}; mean accuracy={scores.mean():.2%}; ' + f'standard deviation={scores.std():.2%}')"
      ],
      "execution_count": 94,
      "outputs": [
        {
          "output_type": "stream",
          "text": [
            "k=1 ; mean accuracy=96.00%; standard deviation=5.33%\n",
            "k=3 ; mean accuracy=96.67%; standard deviation=4.47%\n",
            "k=5 ; mean accuracy=96.67%; standard deviation=4.47%\n",
            "k=7 ; mean accuracy=96.67%; standard deviation=4.47%\n",
            "k=9 ; mean accuracy=97.33%; standard deviation=3.27%\n",
            "k=11; mean accuracy=96.67%; standard deviation=4.47%\n",
            "k=13; mean accuracy=98.00%; standard deviation=3.06%\n",
            "k=15; mean accuracy=97.33%; standard deviation=3.27%\n",
            "k=17; mean accuracy=97.33%; standard deviation=3.27%\n",
            "k=19; mean accuracy=97.33%; standard deviation=3.27%\n",
            "k=21; mean accuracy=96.67%; standard deviation=3.33%\n",
            "k=23; mean accuracy=97.33%; standard deviation=3.27%\n",
            "k=25; mean accuracy=96.67%; standard deviation=3.33%\n",
            "k=27; mean accuracy=96.67%; standard deviation=4.47%\n",
            "k=29; mean accuracy=95.33%; standard deviation=4.27%\n",
            "k=31; mean accuracy=94.67%; standard deviation=4.99%\n"
          ],
          "name": "stdout"
        }
      ]
    },
    {
      "cell_type": "markdown",
      "metadata": {
        "id": "b5TNlZ88eDj_"
      },
      "source": [
        "# **Using GridSearchCV**"
      ]
    },
    {
      "cell_type": "code",
      "metadata": {
        "colab": {
          "base_uri": "https://localhost:8080/"
        },
        "id": "Z7qJeDiHeD6K",
        "outputId": "96b86b00-c9df-4658-a624-506a181b7b7d"
      },
      "source": [
        "knn2 = KNeighborsClassifier()\n",
        "grid = {'n_neighbors': np.arange(1,32,2)}\n",
        "knn_gscv = GridSearchCV(knn2, grid, cv=10)\n",
        "knn_gscv.fit(X, y)"
      ],
      "execution_count": 91,
      "outputs": [
        {
          "output_type": "execute_result",
          "data": {
            "text/plain": [
              "GridSearchCV(cv=10, error_score=nan,\n",
              "             estimator=KNeighborsClassifier(algorithm='auto', leaf_size=30,\n",
              "                                            metric='minkowski',\n",
              "                                            metric_params=None, n_jobs=None,\n",
              "                                            n_neighbors=5, p=2,\n",
              "                                            weights='uniform'),\n",
              "             iid='deprecated', n_jobs=None,\n",
              "             param_grid={'n_neighbors': array([ 1,  3,  5,  7,  9, 11, 13, 15, 17, 19, 21, 23, 25, 27, 29, 31])},\n",
              "             pre_dispatch='2*n_jobs', refit=True, return_train_score=False,\n",
              "             scoring=None, verbose=0)"
            ]
          },
          "metadata": {},
          "execution_count": 91
        }
      ]
    },
    {
      "cell_type": "code",
      "metadata": {
        "colab": {
          "base_uri": "https://localhost:8080/"
        },
        "id": "tZj8sWbv4voX",
        "outputId": "fe1a1d4a-f9c6-456b-ae6d-5fb5d123f2ad"
      },
      "source": [
        "knn_gscv.best_params_"
      ],
      "execution_count": 92,
      "outputs": [
        {
          "output_type": "execute_result",
          "data": {
            "text/plain": [
              "{'n_neighbors': 13}"
            ]
          },
          "metadata": {},
          "execution_count": 92
        }
      ]
    }
  ]
}