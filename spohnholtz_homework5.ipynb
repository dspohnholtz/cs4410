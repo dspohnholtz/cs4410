{
  "nbformat": 4,
  "nbformat_minor": 0,
  "metadata": {
    "colab": {
      "name": "spohnholtz_homework5.ipynb",
      "provenance": [],
      "collapsed_sections": [],
      "authorship_tag": "ABX9TyMMyASWrCHO5G36xDw5ePcw",
      "include_colab_link": true
    },
    "kernelspec": {
      "name": "python3",
      "display_name": "Python 3"
    },
    "language_info": {
      "name": "python"
    }
  },
  "cells": [
    {
      "cell_type": "markdown",
      "metadata": {
        "id": "view-in-github",
        "colab_type": "text"
      },
      "source": [
        "<a href=\"https://colab.research.google.com/github/dspohnholtz/cs4410/blob/main/spohnholtz_homework5.ipynb\" target=\"_parent\"><img src=\"https://colab.research.google.com/assets/colab-badge.svg\" alt=\"Open In Colab\"/></a>"
      ]
    },
    {
      "cell_type": "markdown",
      "metadata": {
        "id": "AEwZEAuR4g3q"
      },
      "source": [
        "Troy University, CS4410\n",
        "\n",
        "Created By: Dan Spohnholtz\n",
        "\n",
        "Homework 5\n",
        "\n",
        "# **Elbow Method on Iris Dataset**\n",
        "\n"
      ]
    },
    {
      "cell_type": "markdown",
      "metadata": {
        "id": "rIjrZvRK7j44"
      },
      "source": [
        "## **Loading the Dataset**"
      ]
    },
    {
      "cell_type": "code",
      "metadata": {
        "id": "-TFZ2O5d4uAN"
      },
      "source": [
        "import pandas as pd\n",
        "import numpy as np\n",
        "import matplotlib.pyplot as plt\n",
        "from sklearn.cluster import KMeans\n",
        "from sklearn.datasets import load_iris\n",
        "iris = load_iris()"
      ],
      "execution_count": 3,
      "outputs": []
    },
    {
      "cell_type": "markdown",
      "metadata": {
        "id": "Q6j1FxNG5pkE"
      },
      "source": [
        "## **Examine Data**"
      ]
    },
    {
      "cell_type": "code",
      "metadata": {
        "colab": {
          "base_uri": "https://localhost:8080/",
          "height": 0
        },
        "id": "SVzeDO085yBQ",
        "outputId": "736ee90b-c76a-4062-eaf4-2a5da5e32e0e"
      },
      "source": [
        "df=pd.DataFrame(iris['data'])\n",
        "print(df.head())"
      ],
      "execution_count": 4,
      "outputs": [
        {
          "output_type": "stream",
          "name": "stdout",
          "text": [
            "     0    1    2    3\n",
            "0  5.1  3.5  1.4  0.2\n",
            "1  4.9  3.0  1.4  0.2\n",
            "2  4.7  3.2  1.3  0.2\n",
            "3  4.6  3.1  1.5  0.2\n",
            "4  5.0  3.6  1.4  0.2\n"
          ]
        }
      ]
    },
    {
      "cell_type": "markdown",
      "metadata": {
        "id": "-aEshfdz6WWl"
      },
      "source": [
        "## **Executing K-Means with Range k**"
      ]
    },
    {
      "cell_type": "code",
      "metadata": {
        "id": "EL84NAfd6iXK"
      },
      "source": [
        "wcss = []\n",
        "K = range(1,10)\n",
        "for k in K:\n",
        "  kMeanModel = KMeans(n_clusters=k)\n",
        "  kMeanModel.fit(df)\n",
        "  wcss.append(kMeanModel.inertia_)"
      ],
      "execution_count": 11,
      "outputs": []
    },
    {
      "cell_type": "markdown",
      "metadata": {
        "id": "qSCOwZ_n7s40"
      },
      "source": [
        "## **Plotting the Intertia of K-Means**"
      ]
    },
    {
      "cell_type": "code",
      "metadata": {
        "colab": {
          "base_uri": "https://localhost:8080/",
          "height": 513
        },
        "id": "-iI6MVFQ7z0V",
        "outputId": "2fda9adb-f3f9-41f5-f1b4-4ef0284c6aee"
      },
      "source": [
        "plt.figure(figsize=(16,8))\n",
        "plt.plot(K, wcss, 'g-')\n",
        "plt.xlabel('Number of clusters')\n",
        "plt.ylabel('WCSS')\n",
        "plt.title('The Elbow Method')\n",
        "plt.show()"
      ],
      "execution_count": 14,
      "outputs": [
        {
          "output_type": "display_data",
          "data": {
            "image/png": "[encoded data removed]",
            "text/plain": [
              "<Figure size 1152x576 with 1 Axes>"
            ]
          },
          "metadata": {
            "needs_background": "light"
          }
        }
      ]
    },
    {
      "cell_type": "markdown",
      "metadata": {
        "id": "DHEX0Q_D-LKg"
      },
      "source": [
        "# **Impact of PCA Dimensional Reduction on MNIST Dataset**"
      ]
    },
    {
      "cell_type": "markdown",
      "metadata": {
        "id": "smM3CNXcCz0L"
      },
      "source": [
        "## **Load the Dataset**"
      ]
    },
    {
      "cell_type": "code",
      "metadata": {
        "id": "smdns-fDC40N"
      },
      "source": [
        "import numpy as np\n",
        "import time, datetime\n",
        "from sklearn.preprocessing import StandardScaler\n",
        "from sklearn.decomposition import PCA\n",
        "from sklearn.cluster import KMeans\n",
        "from sklearn.linear_model import LogisticRegression\n",
        "from sklearn.model_selection import train_test_split\n",
        "from sklearn.datasets import fetch_openml\n",
        "mnist = fetch_openml('mnist_784')"
      ],
      "execution_count": 86,
      "outputs": []
    },
    {
      "cell_type": "markdown",
      "metadata": {
        "id": "LM7dxdOWEJtB"
      },
      "source": [
        "## **Split Data into Training and Testing Groups**"
      ]
    },
    {
      "cell_type": "code",
      "metadata": {
        "id": "434YAUVJEPUr"
      },
      "source": [
        "X_train, X_test, y_train, y_test = train_test_split(\n",
        "    mnist.data, mnist.target, random_state = 11)"
      ],
      "execution_count": 87,
      "outputs": []
    },
    {
      "cell_type": "markdown",
      "metadata": {
        "id": "MVySSIoFKkp-"
      },
      "source": [
        "## **Standardizing Data with StandardScaler**"
      ]
    },
    {
      "cell_type": "code",
      "metadata": {
        "id": "w9hRHu8hL1Bc"
      },
      "source": [
        "scaler = StandardScaler()\n",
        "X_train = scaler.fit_transform(X_train)\n",
        "X_test = scaler.transform(X_test)"
      ],
      "execution_count": 88,
      "outputs": []
    },
    {
      "cell_type": "markdown",
      "metadata": {
        "id": "LjYRoeM_jLj2"
      },
      "source": [
        "## **Training Model with Logistic Regression Before Applying PCA**"
      ]
    },
    {
      "cell_type": "code",
      "metadata": {
        "id": "nVMl-N8EazPJ"
      },
      "source": [
        "start = datetime.datetime.now()\n",
        "logRegr = LogisticRegression(solver='lbfgs', max_iter=10000)\n",
        "logRegr.fit(X_train, y_train)\n",
        "predictions = logRegr.predict(X_test)\n",
        "end = datetime.datetime.now()\n",
        "processTime = (end-start)\n",
        "prePCATime = datetime.timedelta.total_seconds(processTime)\n",
        "prePCA_acc = logRegr.score(X_test, y_test)"
      ],
      "execution_count": 89,
      "outputs": []
    },
    {
      "cell_type": "markdown",
      "metadata": {
        "id": "B_BF_FkUWLzN"
      },
      "source": [
        "## **Applying PCA to Data**"
      ]
    },
    {
      "cell_type": "code",
      "metadata": {
        "id": "VapiCVrtWK_o"
      },
      "source": [
        "pca = PCA(.95)\n",
        "X_train = pca.fit_transform(X_train)\n",
        "X_test = pca.transform(X_test)"
      ],
      "execution_count": 90,
      "outputs": []
    },
    {
      "cell_type": "markdown",
      "metadata": {
        "id": "QFGcyKSJIctG"
      },
      "source": [
        "## **Training and Predicitng Model with Logistic Regression After Applying PCA**"
      ]
    },
    {
      "cell_type": "code",
      "metadata": {
        "id": "b1oLEm2XIl72"
      },
      "source": [
        "start = datetime.datetime.now()\n",
        "logRegr = LogisticRegression(solver='lbfgs', max_iter=10000)\n",
        "logRegr.fit(X_train, y_train)\n",
        "predictions = logRegr.predict(X_test)\n",
        "end = datetime.datetime.now()\n",
        "processTime = (end-start)\n",
        "postPCATime = datetime.timedelta.total_seconds(processTime)\n",
        "postPCA_acc = logRegr.score(X_test, y_test)"
      ],
      "execution_count": 91,
      "outputs": []
    },
    {
      "cell_type": "markdown",
      "metadata": {
        "id": "IQUvReZaYxT8"
      },
      "source": [
        "## **Measuring Model Performance**"
      ]
    },
    {
      "cell_type": "code",
      "metadata": {
        "colab": {
          "base_uri": "https://localhost:8080/",
          "height": 0
        },
        "id": "6CkB2C6IY0QL",
        "outputId": "7712329a-614e-4dc4-b6ab-ca0dae3ab7b9"
      },
      "source": [
        "print('\\u0332'.join('PRE-PCA PERFORMANCE METRICS'))\n",
        "print(f'Model Accuracy: {prePCA_acc:.3%}')\n",
        "print(f'Process Time: {prePCATime} seconds')\n",
        "print('\\u0332'.join('POST-PCA PERFORMANCE METRICS'))\n",
        "print(f'Model Accuracy: {postPCA_acc:.3%}')\n",
        "print(f'Process Time: {postPCATime} seconds')"
      ],
      "execution_count": 92,
      "outputs": [
        {
          "output_type": "stream",
          "name": "stdout",
          "text": [
            "P̲R̲E̲-̲P̲C̲A̲ ̲P̲E̲R̲F̲O̲R̲M̲A̲N̲C̲E̲ ̲M̲E̲T̲R̲I̲C̲S\n",
            "Model Accuracy: 91.326%\n",
            "Process Time: 302.075946 seconds\n",
            "P̲O̲S̲T̲-̲P̲C̲A̲ ̲P̲E̲R̲F̲O̲R̲M̲A̲N̲C̲E̲ ̲M̲E̲T̲R̲I̲C̲S\n",
            "Model Accuracy: 92.097%\n",
            "Process Time: 126.519756 seconds\n"
          ]
        }
      ]
    }
  ]
}